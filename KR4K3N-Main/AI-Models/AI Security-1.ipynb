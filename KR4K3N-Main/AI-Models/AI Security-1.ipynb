{
 "cells": [
  {
   "cell_type": "code",
   "execution_count": 1,
   "id": "3201966c-5268-4c83-a66c-a003ccac0580",
   "metadata": {
    "scrolled": true
   },
   "outputs": [],
   "source": [
    "# !pip install matplotlib\n",
    "# !pip install pandas\n",
    "# !pip install seaborn\n",
    "# !pip install scikit-learn"
   ]
  },
  {
   "cell_type": "code",
   "execution_count": 2,
   "id": "7b698b25",
   "metadata": {},
   "outputs": [],
   "source": [
    "import matplotlib.pyplot as plt # plotting\n",
    "import numpy as np # linear algebra\n",
    "import os # accessing directory structure\n",
    "import pandas as pd # data processing, CSV file I/O (e.g. pd.read_csv)\n",
    "import ast\n",
    "import math\n",
    "import seaborn as sns; \n",
    "\n",
    "from sklearn.tree import DecisionTreeRegressor\n",
    "from sklearn.model_selection import train_test_split, KFold\n",
    "from sklearn.metrics import confusion_matrix, precision_score, recall_score, auc, accuracy_score, roc_auc_score, roc_curve, f1_score, classification_report"
   ]
  },
  {
   "cell_type": "code",
   "execution_count": 3,
   "id": "621ec600",
   "metadata": {},
   "outputs": [
    {
     "data": {
      "text/html": [
       "<div>\n",
       "<style scoped>\n",
       "    .dataframe tbody tr th:only-of-type {\n",
       "        vertical-align: middle;\n",
       "    }\n",
       "\n",
       "    .dataframe tbody tr th {\n",
       "        vertical-align: top;\n",
       "    }\n",
       "\n",
       "    .dataframe thead th {\n",
       "        text-align: right;\n",
       "    }\n",
       "</style>\n",
       "<table border=\"1\" class=\"dataframe\">\n",
       "  <thead>\n",
       "    <tr style=\"text-align: right;\">\n",
       "      <th></th>\n",
       "      <th>Timestamp</th>\n",
       "      <th>Level</th>\n",
       "      <th>LoggerName</th>\n",
       "      <th>Message</th>\n",
       "      <th>Data</th>\n",
       "    </tr>\n",
       "  </thead>\n",
       "  <tbody>\n",
       "    <tr>\n",
       "      <th>0</th>\n",
       "      <td>12-11-2023 15:42</td>\n",
       "      <td>266</td>\n",
       "      <td>WARNING</td>\n",
       "      <td>app</td>\n",
       "      <td>1 | 0 | 0 | No Coordinate data</td>\n",
       "    </tr>\n",
       "    <tr>\n",
       "      <th>1</th>\n",
       "      <td>12-11-2023 15:42</td>\n",
       "      <td>268</td>\n",
       "      <td>WARNING</td>\n",
       "      <td>app</td>\n",
       "      <td>1 | 0 | 0 | No Coordinate data</td>\n",
       "    </tr>\n",
       "    <tr>\n",
       "      <th>2</th>\n",
       "      <td>12-11-2023 15:42</td>\n",
       "      <td>461</td>\n",
       "      <td>WARNING</td>\n",
       "      <td>app</td>\n",
       "      <td>1 | 0 | 0 | No Coordinate data</td>\n",
       "    </tr>\n",
       "    <tr>\n",
       "      <th>3</th>\n",
       "      <td>12-11-2023 15:42</td>\n",
       "      <td>3</td>\n",
       "      <td>WARNING</td>\n",
       "      <td>app</td>\n",
       "      <td>1 | 0 | 0 | No Coordinate data</td>\n",
       "    </tr>\n",
       "    <tr>\n",
       "      <th>4</th>\n",
       "      <td>12-11-2023 15:43</td>\n",
       "      <td>58</td>\n",
       "      <td>WARNING</td>\n",
       "      <td>app</td>\n",
       "      <td>1 | 0 | 0 | No Coordinate data</td>\n",
       "    </tr>\n",
       "    <tr>\n",
       "      <th>5</th>\n",
       "      <td>12-11-2023 15:43</td>\n",
       "      <td>91</td>\n",
       "      <td>WARNING</td>\n",
       "      <td>app</td>\n",
       "      <td>1 | 0 | 0 | No Coordinate data</td>\n",
       "    </tr>\n",
       "    <tr>\n",
       "      <th>6</th>\n",
       "      <td>12-11-2023 15:43</td>\n",
       "      <td>123</td>\n",
       "      <td>WARNING</td>\n",
       "      <td>app</td>\n",
       "      <td>1 | 0 | 0 | No Coordinate data</td>\n",
       "    </tr>\n",
       "    <tr>\n",
       "      <th>7</th>\n",
       "      <td>12-11-2023 15:43</td>\n",
       "      <td>52</td>\n",
       "      <td>WARNING</td>\n",
       "      <td>app</td>\n",
       "      <td>0 | 3 | 2 | Please wait sometime before reloa...</td>\n",
       "    </tr>\n",
       "    <tr>\n",
       "      <th>8</th>\n",
       "      <td>12-11-2023 15:43</td>\n",
       "      <td>22</td>\n",
       "      <td>WARNING</td>\n",
       "      <td>app</td>\n",
       "      <td>0 | 3 | 2 | Please wait sometime before reloa...</td>\n",
       "    </tr>\n",
       "    <tr>\n",
       "      <th>9</th>\n",
       "      <td>12-11-2023 15:43</td>\n",
       "      <td>156</td>\n",
       "      <td>WARNING</td>\n",
       "      <td>app</td>\n",
       "      <td>1 | 0 | 0 | No Coordinate data</td>\n",
       "    </tr>\n",
       "  </tbody>\n",
       "</table>\n",
       "</div>"
      ],
      "text/plain": [
       "          Timestamp Level LoggerName Message  \\\n",
       "0  12-11-2023 15:42   266    WARNING     app   \n",
       "1  12-11-2023 15:42   268    WARNING     app   \n",
       "2  12-11-2023 15:42   461    WARNING     app   \n",
       "3  12-11-2023 15:42     3    WARNING     app   \n",
       "4  12-11-2023 15:43    58    WARNING     app   \n",
       "5  12-11-2023 15:43    91    WARNING     app   \n",
       "6  12-11-2023 15:43   123    WARNING     app   \n",
       "7  12-11-2023 15:43    52    WARNING     app   \n",
       "8  12-11-2023 15:43    22    WARNING     app   \n",
       "9  12-11-2023 15:43   156    WARNING     app   \n",
       "\n",
       "                                                Data  \n",
       "0                     1 | 0 | 0 | No Coordinate data  \n",
       "1                     1 | 0 | 0 | No Coordinate data  \n",
       "2                     1 | 0 | 0 | No Coordinate data  \n",
       "3                     1 | 0 | 0 | No Coordinate data  \n",
       "4                     1 | 0 | 0 | No Coordinate data  \n",
       "5                     1 | 0 | 0 | No Coordinate data  \n",
       "6                     1 | 0 | 0 | No Coordinate data  \n",
       "7   0 | 3 | 2 | Please wait sometime before reloa...  \n",
       "8   0 | 3 | 2 | Please wait sometime before reloa...  \n",
       "9                     1 | 0 | 0 | No Coordinate data  "
      ]
     },
     "execution_count": 3,
     "metadata": {},
     "output_type": "execute_result"
    }
   ],
   "source": [
    "df_weapon = pd.read_csv(r\"C:/Users/chinm/Documents/Assignments/CIP BATTLESHIP/logfile 1.csv\", delimiter=',')\n",
    "df_weapon.head(10)"
   ]
  },
  {
   "cell_type": "code",
   "execution_count": 4,
   "id": "af5a178d-c4f1-448a-8c66-51020a3b2ed2",
   "metadata": {},
   "outputs": [
    {
     "data": {
      "text/plain": [
       "Index(['Timestamp', 'Level', 'LoggerName', 'Message', 'Data'], dtype='object')"
      ]
     },
     "execution_count": 4,
     "metadata": {},
     "output_type": "execute_result"
    }
   ],
   "source": [
    "df_weapon.columns"
   ]
  },
  {
   "cell_type": "code",
   "execution_count": 5,
   "id": "80dfd3fd-75ae-47c5-9b45-fa5b5ff948bb",
   "metadata": {},
   "outputs": [],
   "source": [
    "df_weapon[['Weapon Range Status', 'Weapons Status', 'Status', 'Msg']] = df_weapon['Data'].str.split('|', expand=True)"
   ]
  },
  {
   "cell_type": "code",
   "execution_count": 6,
   "id": "4f878415-0844-4475-97a8-22e53d7d8b85",
   "metadata": {},
   "outputs": [
    {
     "data": {
      "text/html": [
       "<div>\n",
       "<style scoped>\n",
       "    .dataframe tbody tr th:only-of-type {\n",
       "        vertical-align: middle;\n",
       "    }\n",
       "\n",
       "    .dataframe tbody tr th {\n",
       "        vertical-align: top;\n",
       "    }\n",
       "\n",
       "    .dataframe thead th {\n",
       "        text-align: right;\n",
       "    }\n",
       "</style>\n",
       "<table border=\"1\" class=\"dataframe\">\n",
       "  <thead>\n",
       "    <tr style=\"text-align: right;\">\n",
       "      <th></th>\n",
       "      <th>Timestamp</th>\n",
       "      <th>Level</th>\n",
       "      <th>LoggerName</th>\n",
       "      <th>Message</th>\n",
       "      <th>Data</th>\n",
       "      <th>Weapon Range Status</th>\n",
       "      <th>Weapons Status</th>\n",
       "      <th>Status</th>\n",
       "      <th>Msg</th>\n",
       "    </tr>\n",
       "  </thead>\n",
       "  <tbody>\n",
       "    <tr>\n",
       "      <th>0</th>\n",
       "      <td>12-11-2023 15:42</td>\n",
       "      <td>266</td>\n",
       "      <td>WARNING</td>\n",
       "      <td>app</td>\n",
       "      <td>1 | 0 | 0 | No Coordinate data</td>\n",
       "      <td>1</td>\n",
       "      <td>0</td>\n",
       "      <td>0</td>\n",
       "      <td>No Coordinate data</td>\n",
       "    </tr>\n",
       "    <tr>\n",
       "      <th>1</th>\n",
       "      <td>12-11-2023 15:42</td>\n",
       "      <td>268</td>\n",
       "      <td>WARNING</td>\n",
       "      <td>app</td>\n",
       "      <td>1 | 0 | 0 | No Coordinate data</td>\n",
       "      <td>1</td>\n",
       "      <td>0</td>\n",
       "      <td>0</td>\n",
       "      <td>No Coordinate data</td>\n",
       "    </tr>\n",
       "    <tr>\n",
       "      <th>2</th>\n",
       "      <td>12-11-2023 15:42</td>\n",
       "      <td>461</td>\n",
       "      <td>WARNING</td>\n",
       "      <td>app</td>\n",
       "      <td>1 | 0 | 0 | No Coordinate data</td>\n",
       "      <td>1</td>\n",
       "      <td>0</td>\n",
       "      <td>0</td>\n",
       "      <td>No Coordinate data</td>\n",
       "    </tr>\n",
       "    <tr>\n",
       "      <th>3</th>\n",
       "      <td>12-11-2023 15:42</td>\n",
       "      <td>3</td>\n",
       "      <td>WARNING</td>\n",
       "      <td>app</td>\n",
       "      <td>1 | 0 | 0 | No Coordinate data</td>\n",
       "      <td>1</td>\n",
       "      <td>0</td>\n",
       "      <td>0</td>\n",
       "      <td>No Coordinate data</td>\n",
       "    </tr>\n",
       "    <tr>\n",
       "      <th>4</th>\n",
       "      <td>12-11-2023 15:43</td>\n",
       "      <td>58</td>\n",
       "      <td>WARNING</td>\n",
       "      <td>app</td>\n",
       "      <td>1 | 0 | 0 | No Coordinate data</td>\n",
       "      <td>1</td>\n",
       "      <td>0</td>\n",
       "      <td>0</td>\n",
       "      <td>No Coordinate data</td>\n",
       "    </tr>\n",
       "  </tbody>\n",
       "</table>\n",
       "</div>"
      ],
      "text/plain": [
       "          Timestamp Level LoggerName Message                             Data  \\\n",
       "0  12-11-2023 15:42   266    WARNING     app   1 | 0 | 0 | No Coordinate data   \n",
       "1  12-11-2023 15:42   268    WARNING     app   1 | 0 | 0 | No Coordinate data   \n",
       "2  12-11-2023 15:42   461    WARNING     app   1 | 0 | 0 | No Coordinate data   \n",
       "3  12-11-2023 15:42     3    WARNING     app   1 | 0 | 0 | No Coordinate data   \n",
       "4  12-11-2023 15:43    58    WARNING     app   1 | 0 | 0 | No Coordinate data   \n",
       "\n",
       "  Weapon Range Status Weapons Status Status                  Msg  \n",
       "0                  1              0      0    No Coordinate data  \n",
       "1                  1              0      0    No Coordinate data  \n",
       "2                  1              0      0    No Coordinate data  \n",
       "3                  1              0      0    No Coordinate data  \n",
       "4                  1              0      0    No Coordinate data  "
      ]
     },
     "execution_count": 6,
     "metadata": {},
     "output_type": "execute_result"
    }
   ],
   "source": [
    "df_weapon.head()"
   ]
  },
  {
   "cell_type": "code",
   "execution_count": 7,
   "id": "5a2060be",
   "metadata": {},
   "outputs": [],
   "source": [
    "columns_to_select_weapon = ['Level', 'Weapon Range Status', 'Weapons Status', 'Status']\n",
    "df_weapon_new = df_weapon[columns_to_select_weapon].copy()"
   ]
  },
  {
   "cell_type": "code",
   "execution_count": 8,
   "id": "ce6ee373",
   "metadata": {},
   "outputs": [
    {
     "data": {
      "text/html": [
       "<div>\n",
       "<style scoped>\n",
       "    .dataframe tbody tr th:only-of-type {\n",
       "        vertical-align: middle;\n",
       "    }\n",
       "\n",
       "    .dataframe tbody tr th {\n",
       "        vertical-align: top;\n",
       "    }\n",
       "\n",
       "    .dataframe thead th {\n",
       "        text-align: right;\n",
       "    }\n",
       "</style>\n",
       "<table border=\"1\" class=\"dataframe\">\n",
       "  <thead>\n",
       "    <tr style=\"text-align: right;\">\n",
       "      <th></th>\n",
       "      <th>Level</th>\n",
       "      <th>Weapon Range Status</th>\n",
       "      <th>Weapons Status</th>\n",
       "      <th>Status</th>\n",
       "    </tr>\n",
       "  </thead>\n",
       "  <tbody>\n",
       "    <tr>\n",
       "      <th>0</th>\n",
       "      <td>266</td>\n",
       "      <td>1</td>\n",
       "      <td>0</td>\n",
       "      <td>0</td>\n",
       "    </tr>\n",
       "    <tr>\n",
       "      <th>1</th>\n",
       "      <td>268</td>\n",
       "      <td>1</td>\n",
       "      <td>0</td>\n",
       "      <td>0</td>\n",
       "    </tr>\n",
       "    <tr>\n",
       "      <th>2</th>\n",
       "      <td>461</td>\n",
       "      <td>1</td>\n",
       "      <td>0</td>\n",
       "      <td>0</td>\n",
       "    </tr>\n",
       "    <tr>\n",
       "      <th>3</th>\n",
       "      <td>3</td>\n",
       "      <td>1</td>\n",
       "      <td>0</td>\n",
       "      <td>0</td>\n",
       "    </tr>\n",
       "    <tr>\n",
       "      <th>4</th>\n",
       "      <td>58</td>\n",
       "      <td>1</td>\n",
       "      <td>0</td>\n",
       "      <td>0</td>\n",
       "    </tr>\n",
       "    <tr>\n",
       "      <th>5</th>\n",
       "      <td>91</td>\n",
       "      <td>1</td>\n",
       "      <td>0</td>\n",
       "      <td>0</td>\n",
       "    </tr>\n",
       "    <tr>\n",
       "      <th>6</th>\n",
       "      <td>123</td>\n",
       "      <td>1</td>\n",
       "      <td>0</td>\n",
       "      <td>0</td>\n",
       "    </tr>\n",
       "    <tr>\n",
       "      <th>7</th>\n",
       "      <td>52</td>\n",
       "      <td>0</td>\n",
       "      <td>3</td>\n",
       "      <td>2</td>\n",
       "    </tr>\n",
       "    <tr>\n",
       "      <th>8</th>\n",
       "      <td>22</td>\n",
       "      <td>0</td>\n",
       "      <td>3</td>\n",
       "      <td>2</td>\n",
       "    </tr>\n",
       "    <tr>\n",
       "      <th>9</th>\n",
       "      <td>156</td>\n",
       "      <td>1</td>\n",
       "      <td>0</td>\n",
       "      <td>0</td>\n",
       "    </tr>\n",
       "  </tbody>\n",
       "</table>\n",
       "</div>"
      ],
      "text/plain": [
       "  Level Weapon Range Status Weapons Status Status\n",
       "0   266                  1              0      0 \n",
       "1   268                  1              0      0 \n",
       "2   461                  1              0      0 \n",
       "3     3                  1              0      0 \n",
       "4    58                  1              0      0 \n",
       "5    91                  1              0      0 \n",
       "6   123                  1              0      0 \n",
       "7    52                  0              3      2 \n",
       "8    22                  0              3      2 \n",
       "9   156                  1              0      0 "
      ]
     },
     "execution_count": 8,
     "metadata": {},
     "output_type": "execute_result"
    }
   ],
   "source": [
    "df_weapon_new.head(10)"
   ]
  },
  {
   "cell_type": "code",
   "execution_count": 9,
   "id": "c5dc1204-f402-44fa-a464-aece912e0e10",
   "metadata": {},
   "outputs": [],
   "source": [
    "df_weapon_new = df_weapon_new[df_weapon_new['Level'] != 'Level']"
   ]
  },
  {
   "cell_type": "code",
   "execution_count": 10,
   "id": "47c4dbd3-fdce-4967-8246-cdf42935c0a5",
   "metadata": {},
   "outputs": [
    {
     "data": {
      "text/plain": [
       "Series([], dtype: int64)"
      ]
     },
     "execution_count": 10,
     "metadata": {},
     "output_type": "execute_result"
    }
   ],
   "source": [
    "df_weapon_new[df_weapon_new.isna().any(axis=1)].isna().sum(axis=1)"
   ]
  },
  {
   "cell_type": "code",
   "execution_count": 11,
   "id": "b639023a-ce9f-4405-9a06-41d11d3e126f",
   "metadata": {},
   "outputs": [
    {
     "data": {
      "text/html": [
       "<div>\n",
       "<style scoped>\n",
       "    .dataframe tbody tr th:only-of-type {\n",
       "        vertical-align: middle;\n",
       "    }\n",
       "\n",
       "    .dataframe tbody tr th {\n",
       "        vertical-align: top;\n",
       "    }\n",
       "\n",
       "    .dataframe thead th {\n",
       "        text-align: right;\n",
       "    }\n",
       "</style>\n",
       "<table border=\"1\" class=\"dataframe\">\n",
       "  <thead>\n",
       "    <tr style=\"text-align: right;\">\n",
       "      <th></th>\n",
       "      <th>Speed (m/s)</th>\n",
       "      <th>Density of Seawater (kg/m^3)</th>\n",
       "      <th>Drag Coefficient</th>\n",
       "      <th>Wetted Surface Area (m^2)</th>\n",
       "      <th>Power Required (Watts)</th>\n",
       "    </tr>\n",
       "  </thead>\n",
       "  <tbody>\n",
       "    <tr>\n",
       "      <th>0</th>\n",
       "      <td>15</td>\n",
       "      <td>1024.681725</td>\n",
       "      <td>0.035009</td>\n",
       "      <td>1004.940348</td>\n",
       "      <td>6.083512e+07</td>\n",
       "    </tr>\n",
       "    <tr>\n",
       "      <th>1</th>\n",
       "      <td>15</td>\n",
       "      <td>1025.047390</td>\n",
       "      <td>0.034992</td>\n",
       "      <td>1004.648764</td>\n",
       "      <td>6.080872e+07</td>\n",
       "    </tr>\n",
       "    <tr>\n",
       "      <th>2</th>\n",
       "      <td>15</td>\n",
       "      <td>1025.085363</td>\n",
       "      <td>0.034986</td>\n",
       "      <td>1004.614887</td>\n",
       "      <td>6.079992e+07</td>\n",
       "    </tr>\n",
       "    <tr>\n",
       "      <th>3</th>\n",
       "      <td>15</td>\n",
       "      <td>1024.775867</td>\n",
       "      <td>0.035013</td>\n",
       "      <td>1005.331773</td>\n",
       "      <td>6.087118e+07</td>\n",
       "    </tr>\n",
       "    <tr>\n",
       "      <th>4</th>\n",
       "      <td>15</td>\n",
       "      <td>1024.675182</td>\n",
       "      <td>0.034996</td>\n",
       "      <td>1005.270724</td>\n",
       "      <td>6.083186e+07</td>\n",
       "    </tr>\n",
       "  </tbody>\n",
       "</table>\n",
       "</div>"
      ],
      "text/plain": [
       "   Speed (m/s)  Density of Seawater (kg/m^3)  Drag Coefficient  \\\n",
       "0           15                   1024.681725          0.035009   \n",
       "1           15                   1025.047390          0.034992   \n",
       "2           15                   1025.085363          0.034986   \n",
       "3           15                   1024.775867          0.035013   \n",
       "4           15                   1024.675182          0.034996   \n",
       "\n",
       "   Wetted Surface Area (m^2)  Power Required (Watts)  \n",
       "0                1004.940348            6.083512e+07  \n",
       "1                1004.648764            6.080872e+07  \n",
       "2                1004.614887            6.079992e+07  \n",
       "3                1005.331773            6.087118e+07  \n",
       "4                1005.270724            6.083186e+07  "
      ]
     },
     "execution_count": 11,
     "metadata": {},
     "output_type": "execute_result"
    }
   ],
   "source": [
    "df_scada_good = pd.read_csv(r\"C:/Users/chinm/Documents/Assignments/CIP BATTLESHIP/ship_power_randomized_data_constant_speed.csv\", delimiter=',')\n",
    "df_scada_good.head()"
   ]
  },
  {
   "cell_type": "code",
   "execution_count": 12,
   "id": "043f5f6d-6983-48a3-b8f4-63d7c4e9cda4",
   "metadata": {},
   "outputs": [],
   "source": [
    "df_scada_good['Stat'] = 0"
   ]
  },
  {
   "cell_type": "code",
   "execution_count": 13,
   "id": "1d957d2a-c3d8-463d-891f-ef2e6936fdd8",
   "metadata": {},
   "outputs": [
    {
     "data": {
      "text/plain": [
       "Index(['Speed (m/s)', 'Density of Seawater (kg/m^3)', 'Drag Coefficient',\n",
       "       'Wetted Surface Area (m^2)', 'Power Required (Watts)', 'Stat'],\n",
       "      dtype='object')"
      ]
     },
     "execution_count": 13,
     "metadata": {},
     "output_type": "execute_result"
    }
   ],
   "source": [
    "df_scada_good.columns"
   ]
  },
  {
   "cell_type": "code",
   "execution_count": 14,
   "id": "30a96552-3fa6-4abb-85e5-171eaed5f2f9",
   "metadata": {},
   "outputs": [
    {
     "data": {
      "text/html": [
       "<div>\n",
       "<style scoped>\n",
       "    .dataframe tbody tr th:only-of-type {\n",
       "        vertical-align: middle;\n",
       "    }\n",
       "\n",
       "    .dataframe tbody tr th {\n",
       "        vertical-align: top;\n",
       "    }\n",
       "\n",
       "    .dataframe thead th {\n",
       "        text-align: right;\n",
       "    }\n",
       "</style>\n",
       "<table border=\"1\" class=\"dataframe\">\n",
       "  <thead>\n",
       "    <tr style=\"text-align: right;\">\n",
       "      <th></th>\n",
       "      <th>Speed (m/s)</th>\n",
       "      <th>Density of Seawater (kg/m^3)</th>\n",
       "      <th>Drag Coefficient</th>\n",
       "      <th>Wetted Surface Area (m^2)</th>\n",
       "      <th>Power Required (Watts)</th>\n",
       "    </tr>\n",
       "  </thead>\n",
       "  <tbody>\n",
       "    <tr>\n",
       "      <th>0</th>\n",
       "      <td>9.137496</td>\n",
       "      <td>1025.001992</td>\n",
       "      <td>0.035012</td>\n",
       "      <td>1005.164477</td>\n",
       "      <td>1.376045e+07</td>\n",
       "    </tr>\n",
       "    <tr>\n",
       "      <th>1</th>\n",
       "      <td>14.873070</td>\n",
       "      <td>1024.962505</td>\n",
       "      <td>0.035011</td>\n",
       "      <td>1004.890365</td>\n",
       "      <td>5.931992e+07</td>\n",
       "    </tr>\n",
       "    <tr>\n",
       "      <th>2</th>\n",
       "      <td>17.134647</td>\n",
       "      <td>1024.612871</td>\n",
       "      <td>0.035009</td>\n",
       "      <td>1005.345407</td>\n",
       "      <td>9.070977e+07</td>\n",
       "    </tr>\n",
       "    <tr>\n",
       "      <th>3</th>\n",
       "      <td>12.223697</td>\n",
       "      <td>1024.659058</td>\n",
       "      <td>0.035007</td>\n",
       "      <td>1005.053599</td>\n",
       "      <td>3.292352e+07</td>\n",
       "    </tr>\n",
       "    <tr>\n",
       "      <th>4</th>\n",
       "      <td>11.690948</td>\n",
       "      <td>1025.297478</td>\n",
       "      <td>0.035008</td>\n",
       "      <td>1005.463028</td>\n",
       "      <td>2.883380e+07</td>\n",
       "    </tr>\n",
       "  </tbody>\n",
       "</table>\n",
       "</div>"
      ],
      "text/plain": [
       "   Speed (m/s)  Density of Seawater (kg/m^3)  Drag Coefficient  \\\n",
       "0     9.137496                   1025.001992          0.035012   \n",
       "1    14.873070                   1024.962505          0.035011   \n",
       "2    17.134647                   1024.612871          0.035009   \n",
       "3    12.223697                   1024.659058          0.035007   \n",
       "4    11.690948                   1025.297478          0.035008   \n",
       "\n",
       "   Wetted Surface Area (m^2)  Power Required (Watts)  \n",
       "0                1005.164477            1.376045e+07  \n",
       "1                1004.890365            5.931992e+07  \n",
       "2                1005.345407            9.070977e+07  \n",
       "3                1005.053599            3.292352e+07  \n",
       "4                1005.463028            2.883380e+07  "
      ]
     },
     "execution_count": 14,
     "metadata": {},
     "output_type": "execute_result"
    }
   ],
   "source": [
    "df_scada_bad = pd.read_csv(r\"C:/Users/chinm/Documents/Assignments/CIP BATTLESHIP/ship_power_randomized_data_variable_speed_40.csv\", delimiter=',')\n",
    "df_scada_bad.head()"
   ]
  },
  {
   "cell_type": "code",
   "execution_count": 15,
   "id": "eec743db-3d45-4d36-8117-b5ac77bd94d9",
   "metadata": {},
   "outputs": [],
   "source": [
    "df_scada_bad['Stat'] = 1"
   ]
  },
  {
   "cell_type": "code",
   "execution_count": 16,
   "id": "4c7a2a85-f4a8-4247-938b-f226fff37ba1",
   "metadata": {},
   "outputs": [
    {
     "data": {
      "text/plain": [
       "Index(['Speed (m/s)', 'Density of Seawater (kg/m^3)', 'Drag Coefficient',\n",
       "       'Wetted Surface Area (m^2)', 'Power Required (Watts)', 'Stat'],\n",
       "      dtype='object')"
      ]
     },
     "execution_count": 16,
     "metadata": {},
     "output_type": "execute_result"
    }
   ],
   "source": [
    "df_scada_bad.columns"
   ]
  },
  {
   "cell_type": "code",
   "execution_count": 17,
   "id": "6da5e19f-3d9c-4f2f-82a5-84aa5a531e27",
   "metadata": {},
   "outputs": [],
   "source": [
    "df_scada_combined = pd.concat([df_scada_good, df_scada_bad], ignore_index=True)"
   ]
  },
  {
   "cell_type": "code",
   "execution_count": 18,
   "id": "4358d664-04ab-40e1-9fa0-1c6f82c5db55",
   "metadata": {},
   "outputs": [
    {
     "data": {
      "text/html": [
       "<div>\n",
       "<style scoped>\n",
       "    .dataframe tbody tr th:only-of-type {\n",
       "        vertical-align: middle;\n",
       "    }\n",
       "\n",
       "    .dataframe tbody tr th {\n",
       "        vertical-align: top;\n",
       "    }\n",
       "\n",
       "    .dataframe thead th {\n",
       "        text-align: right;\n",
       "    }\n",
       "</style>\n",
       "<table border=\"1\" class=\"dataframe\">\n",
       "  <thead>\n",
       "    <tr style=\"text-align: right;\">\n",
       "      <th></th>\n",
       "      <th>Speed (m/s)</th>\n",
       "      <th>Density of Seawater (kg/m^3)</th>\n",
       "      <th>Drag Coefficient</th>\n",
       "      <th>Wetted Surface Area (m^2)</th>\n",
       "      <th>Power Required (Watts)</th>\n",
       "      <th>Stat</th>\n",
       "    </tr>\n",
       "  </thead>\n",
       "  <tbody>\n",
       "    <tr>\n",
       "      <th>0</th>\n",
       "      <td>15.0</td>\n",
       "      <td>1024.681725</td>\n",
       "      <td>0.035009</td>\n",
       "      <td>1004.940348</td>\n",
       "      <td>6.083512e+07</td>\n",
       "      <td>0</td>\n",
       "    </tr>\n",
       "    <tr>\n",
       "      <th>1</th>\n",
       "      <td>15.0</td>\n",
       "      <td>1025.047390</td>\n",
       "      <td>0.034992</td>\n",
       "      <td>1004.648764</td>\n",
       "      <td>6.080872e+07</td>\n",
       "      <td>0</td>\n",
       "    </tr>\n",
       "    <tr>\n",
       "      <th>2</th>\n",
       "      <td>15.0</td>\n",
       "      <td>1025.085363</td>\n",
       "      <td>0.034986</td>\n",
       "      <td>1004.614887</td>\n",
       "      <td>6.079992e+07</td>\n",
       "      <td>0</td>\n",
       "    </tr>\n",
       "    <tr>\n",
       "      <th>3</th>\n",
       "      <td>15.0</td>\n",
       "      <td>1024.775867</td>\n",
       "      <td>0.035013</td>\n",
       "      <td>1005.331773</td>\n",
       "      <td>6.087118e+07</td>\n",
       "      <td>0</td>\n",
       "    </tr>\n",
       "    <tr>\n",
       "      <th>4</th>\n",
       "      <td>15.0</td>\n",
       "      <td>1024.675182</td>\n",
       "      <td>0.034996</td>\n",
       "      <td>1005.270724</td>\n",
       "      <td>6.083186e+07</td>\n",
       "      <td>0</td>\n",
       "    </tr>\n",
       "  </tbody>\n",
       "</table>\n",
       "</div>"
      ],
      "text/plain": [
       "   Speed (m/s)  Density of Seawater (kg/m^3)  Drag Coefficient  \\\n",
       "0         15.0                   1024.681725          0.035009   \n",
       "1         15.0                   1025.047390          0.034992   \n",
       "2         15.0                   1025.085363          0.034986   \n",
       "3         15.0                   1024.775867          0.035013   \n",
       "4         15.0                   1024.675182          0.034996   \n",
       "\n",
       "   Wetted Surface Area (m^2)  Power Required (Watts)  Stat  \n",
       "0                1004.940348            6.083512e+07     0  \n",
       "1                1004.648764            6.080872e+07     0  \n",
       "2                1004.614887            6.079992e+07     0  \n",
       "3                1005.331773            6.087118e+07     0  \n",
       "4                1005.270724            6.083186e+07     0  "
      ]
     },
     "execution_count": 18,
     "metadata": {},
     "output_type": "execute_result"
    }
   ],
   "source": [
    "df_scada_combined.head()"
   ]
  },
  {
   "cell_type": "code",
   "execution_count": 19,
   "id": "59f0b22f-2669-49f3-9541-52aa86d94c93",
   "metadata": {},
   "outputs": [
    {
     "data": {
      "text/html": [
       "<div>\n",
       "<style scoped>\n",
       "    .dataframe tbody tr th:only-of-type {\n",
       "        vertical-align: middle;\n",
       "    }\n",
       "\n",
       "    .dataframe tbody tr th {\n",
       "        vertical-align: top;\n",
       "    }\n",
       "\n",
       "    .dataframe thead th {\n",
       "        text-align: right;\n",
       "    }\n",
       "</style>\n",
       "<table border=\"1\" class=\"dataframe\">\n",
       "  <thead>\n",
       "    <tr style=\"text-align: right;\">\n",
       "      <th></th>\n",
       "      <th>Speed (m/s)</th>\n",
       "      <th>Density of Seawater (kg/m^3)</th>\n",
       "      <th>Drag Coefficient</th>\n",
       "      <th>Wetted Surface Area (m^2)</th>\n",
       "      <th>Power Required (Watts)</th>\n",
       "      <th>Stat</th>\n",
       "    </tr>\n",
       "  </thead>\n",
       "  <tbody>\n",
       "    <tr>\n",
       "      <th>1995</th>\n",
       "      <td>9.283362</td>\n",
       "      <td>1024.978820</td>\n",
       "      <td>0.035000</td>\n",
       "      <td>1005.438117</td>\n",
       "      <td>1.442877e+07</td>\n",
       "      <td>1</td>\n",
       "    </tr>\n",
       "    <tr>\n",
       "      <th>1996</th>\n",
       "      <td>20.801966</td>\n",
       "      <td>1025.129375</td>\n",
       "      <td>0.034998</td>\n",
       "      <td>1004.864824</td>\n",
       "      <td>1.622622e+08</td>\n",
       "      <td>1</td>\n",
       "    </tr>\n",
       "    <tr>\n",
       "      <th>1997</th>\n",
       "      <td>20.195419</td>\n",
       "      <td>1024.918779</td>\n",
       "      <td>0.035004</td>\n",
       "      <td>1005.167364</td>\n",
       "      <td>1.485152e+08</td>\n",
       "      <td>1</td>\n",
       "    </tr>\n",
       "    <tr>\n",
       "      <th>1998</th>\n",
       "      <td>20.559452</td>\n",
       "      <td>1024.670379</td>\n",
       "      <td>0.034984</td>\n",
       "      <td>1005.359189</td>\n",
       "      <td>1.565964e+08</td>\n",
       "      <td>1</td>\n",
       "    </tr>\n",
       "    <tr>\n",
       "      <th>1999</th>\n",
       "      <td>10.199823</td>\n",
       "      <td>1025.027584</td>\n",
       "      <td>0.034992</td>\n",
       "      <td>1004.653371</td>\n",
       "      <td>1.911938e+07</td>\n",
       "      <td>1</td>\n",
       "    </tr>\n",
       "  </tbody>\n",
       "</table>\n",
       "</div>"
      ],
      "text/plain": [
       "      Speed (m/s)  Density of Seawater (kg/m^3)  Drag Coefficient  \\\n",
       "1995     9.283362                   1024.978820          0.035000   \n",
       "1996    20.801966                   1025.129375          0.034998   \n",
       "1997    20.195419                   1024.918779          0.035004   \n",
       "1998    20.559452                   1024.670379          0.034984   \n",
       "1999    10.199823                   1025.027584          0.034992   \n",
       "\n",
       "      Wetted Surface Area (m^2)  Power Required (Watts)  Stat  \n",
       "1995                1005.438117            1.442877e+07     1  \n",
       "1996                1004.864824            1.622622e+08     1  \n",
       "1997                1005.167364            1.485152e+08     1  \n",
       "1998                1005.359189            1.565964e+08     1  \n",
       "1999                1004.653371            1.911938e+07     1  "
      ]
     },
     "execution_count": 19,
     "metadata": {},
     "output_type": "execute_result"
    }
   ],
   "source": [
    "df_scada_combined.tail()"
   ]
  },
  {
   "cell_type": "code",
   "execution_count": 20,
   "id": "658e3b3b-768d-48b6-8c3c-aa2a974b7fa4",
   "metadata": {},
   "outputs": [],
   "source": [
    "df_new = pd.merge(df_scada_combined.assign(key=1), df_weapon_new.assign(key=1), on='key').drop('key', axis=1)"
   ]
  },
  {
   "cell_type": "code",
   "execution_count": 21,
   "id": "90ca49ab-5b76-4bea-9b51-415e59df1878",
   "metadata": {},
   "outputs": [
    {
     "data": {
      "text/html": [
       "<div>\n",
       "<style scoped>\n",
       "    .dataframe tbody tr th:only-of-type {\n",
       "        vertical-align: middle;\n",
       "    }\n",
       "\n",
       "    .dataframe tbody tr th {\n",
       "        vertical-align: top;\n",
       "    }\n",
       "\n",
       "    .dataframe thead th {\n",
       "        text-align: right;\n",
       "    }\n",
       "</style>\n",
       "<table border=\"1\" class=\"dataframe\">\n",
       "  <thead>\n",
       "    <tr style=\"text-align: right;\">\n",
       "      <th></th>\n",
       "      <th>Speed (m/s)</th>\n",
       "      <th>Density of Seawater (kg/m^3)</th>\n",
       "      <th>Drag Coefficient</th>\n",
       "      <th>Wetted Surface Area (m^2)</th>\n",
       "      <th>Power Required (Watts)</th>\n",
       "      <th>Stat</th>\n",
       "      <th>Level</th>\n",
       "      <th>Weapon Range Status</th>\n",
       "      <th>Weapons Status</th>\n",
       "      <th>Status</th>\n",
       "    </tr>\n",
       "  </thead>\n",
       "  <tbody>\n",
       "    <tr>\n",
       "      <th>0</th>\n",
       "      <td>15.0</td>\n",
       "      <td>1024.681725</td>\n",
       "      <td>0.035009</td>\n",
       "      <td>1004.940348</td>\n",
       "      <td>6.083512e+07</td>\n",
       "      <td>0</td>\n",
       "      <td>266</td>\n",
       "      <td>1</td>\n",
       "      <td>0</td>\n",
       "      <td>0</td>\n",
       "    </tr>\n",
       "    <tr>\n",
       "      <th>1</th>\n",
       "      <td>15.0</td>\n",
       "      <td>1024.681725</td>\n",
       "      <td>0.035009</td>\n",
       "      <td>1004.940348</td>\n",
       "      <td>6.083512e+07</td>\n",
       "      <td>0</td>\n",
       "      <td>268</td>\n",
       "      <td>1</td>\n",
       "      <td>0</td>\n",
       "      <td>0</td>\n",
       "    </tr>\n",
       "    <tr>\n",
       "      <th>2</th>\n",
       "      <td>15.0</td>\n",
       "      <td>1024.681725</td>\n",
       "      <td>0.035009</td>\n",
       "      <td>1004.940348</td>\n",
       "      <td>6.083512e+07</td>\n",
       "      <td>0</td>\n",
       "      <td>461</td>\n",
       "      <td>1</td>\n",
       "      <td>0</td>\n",
       "      <td>0</td>\n",
       "    </tr>\n",
       "    <tr>\n",
       "      <th>3</th>\n",
       "      <td>15.0</td>\n",
       "      <td>1024.681725</td>\n",
       "      <td>0.035009</td>\n",
       "      <td>1004.940348</td>\n",
       "      <td>6.083512e+07</td>\n",
       "      <td>0</td>\n",
       "      <td>3</td>\n",
       "      <td>1</td>\n",
       "      <td>0</td>\n",
       "      <td>0</td>\n",
       "    </tr>\n",
       "    <tr>\n",
       "      <th>4</th>\n",
       "      <td>15.0</td>\n",
       "      <td>1024.681725</td>\n",
       "      <td>0.035009</td>\n",
       "      <td>1004.940348</td>\n",
       "      <td>6.083512e+07</td>\n",
       "      <td>0</td>\n",
       "      <td>58</td>\n",
       "      <td>1</td>\n",
       "      <td>0</td>\n",
       "      <td>0</td>\n",
       "    </tr>\n",
       "  </tbody>\n",
       "</table>\n",
       "</div>"
      ],
      "text/plain": [
       "   Speed (m/s)  Density of Seawater (kg/m^3)  Drag Coefficient  \\\n",
       "0         15.0                   1024.681725          0.035009   \n",
       "1         15.0                   1024.681725          0.035009   \n",
       "2         15.0                   1024.681725          0.035009   \n",
       "3         15.0                   1024.681725          0.035009   \n",
       "4         15.0                   1024.681725          0.035009   \n",
       "\n",
       "   Wetted Surface Area (m^2)  Power Required (Watts)  Stat Level  \\\n",
       "0                1004.940348            6.083512e+07     0   266   \n",
       "1                1004.940348            6.083512e+07     0   268   \n",
       "2                1004.940348            6.083512e+07     0   461   \n",
       "3                1004.940348            6.083512e+07     0     3   \n",
       "4                1004.940348            6.083512e+07     0    58   \n",
       "\n",
       "  Weapon Range Status Weapons Status Status  \n",
       "0                  1              0      0   \n",
       "1                  1              0      0   \n",
       "2                  1              0      0   \n",
       "3                  1              0      0   \n",
       "4                  1              0      0   "
      ]
     },
     "execution_count": 21,
     "metadata": {},
     "output_type": "execute_result"
    }
   ],
   "source": [
    "df_new.head()"
   ]
  },
  {
   "cell_type": "code",
   "execution_count": 22,
   "id": "563c411b-9b0b-4c1a-8474-3c6d5095112c",
   "metadata": {},
   "outputs": [
    {
     "data": {
      "text/plain": [
       "(25226000, 10)"
      ]
     },
     "execution_count": 22,
     "metadata": {},
     "output_type": "execute_result"
    }
   ],
   "source": [
    "df_new.shape"
   ]
  },
  {
   "cell_type": "code",
   "execution_count": 23,
   "id": "3f4f849c-187e-41ef-92fe-04195e53bf15",
   "metadata": {},
   "outputs": [],
   "source": [
    "# df_new.to_csv('C:/Users/chinm/Documents/Assignments/CIP BATTLESHIP/df_new.csv', index=False)"
   ]
  },
  {
   "cell_type": "code",
   "execution_count": 24,
   "id": "7f4483af-7e88-48e5-a9d9-fecee523ccd4",
   "metadata": {},
   "outputs": [],
   "source": [
    "# df_new[df_new.isna().any(axis=1)].isna().sum(axis=1)"
   ]
  },
  {
   "cell_type": "code",
   "execution_count": 25,
   "id": "0766350f-f9f9-46cb-b3ce-65b67f130cd8",
   "metadata": {},
   "outputs": [],
   "source": [
    "# df_new.iloc[987]"
   ]
  },
  {
   "cell_type": "code",
   "execution_count": 26,
   "id": "a2656d9e-3539-43a5-851e-d2c122bc9179",
   "metadata": {},
   "outputs": [],
   "source": [
    "# df_new = df_new[df_new['Level'] != 'Level']"
   ]
  },
  {
   "cell_type": "code",
   "execution_count": 27,
   "id": "9c9823a8-bb78-41b1-82a1-02a410156f32",
   "metadata": {},
   "outputs": [
    {
     "data": {
      "text/plain": [
       "Series([], dtype: int64)"
      ]
     },
     "execution_count": 27,
     "metadata": {},
     "output_type": "execute_result"
    }
   ],
   "source": [
    "df_new[df_new.isna().any(axis=1)].isna().sum(axis=1)"
   ]
  },
  {
   "cell_type": "code",
   "execution_count": 28,
   "id": "9faefd1a-b310-46ee-b7e1-7266ea5d3ca4",
   "metadata": {},
   "outputs": [
    {
     "data": {
      "text/plain": [
       "dtype('int32')"
      ]
     },
     "execution_count": 28,
     "metadata": {},
     "output_type": "execute_result"
    }
   ],
   "source": [
    "df_new['Status'] = df_new['Status'].astype(int)\n",
    "df_new['Status'].dtype"
   ]
  },
  {
   "cell_type": "code",
   "execution_count": 29,
   "id": "fd08b715-0e1b-444a-bff4-7bc41b63566b",
   "metadata": {},
   "outputs": [
    {
     "data": {
      "text/plain": [
       "dtype('int64')"
      ]
     },
     "execution_count": 29,
     "metadata": {},
     "output_type": "execute_result"
    }
   ],
   "source": [
    "df_new['Stat'].dtype"
   ]
  },
  {
   "cell_type": "code",
   "execution_count": 30,
   "id": "a9a1a4a6-6fab-4645-8ee9-57fcd1d6b174",
   "metadata": {},
   "outputs": [],
   "source": [
    "# df_new['Label'] = df_new['Status'].apply(lambda x: 1 if x in [2] else 0)\n",
    "df_new['Label'] = df_new.apply(lambda row: 1 if row['Status'] == 2 or row['Stat'] == 1 else 0, axis=1)\n",
    "# df_new['Label'] = 1\n",
    "# df_new.loc[(df_new['Status'] == 0) | (df_new['Status'] == 1), 'Label'] = 0"
   ]
  },
  {
   "cell_type": "code",
   "execution_count": 31,
   "id": "8b2abb00-efd5-4fa9-a69e-7d45438cfee9",
   "metadata": {},
   "outputs": [
    {
     "data": {
      "text/html": [
       "<div>\n",
       "<style scoped>\n",
       "    .dataframe tbody tr th:only-of-type {\n",
       "        vertical-align: middle;\n",
       "    }\n",
       "\n",
       "    .dataframe tbody tr th {\n",
       "        vertical-align: top;\n",
       "    }\n",
       "\n",
       "    .dataframe thead th {\n",
       "        text-align: right;\n",
       "    }\n",
       "</style>\n",
       "<table border=\"1\" class=\"dataframe\">\n",
       "  <thead>\n",
       "    <tr style=\"text-align: right;\">\n",
       "      <th></th>\n",
       "      <th>Speed (m/s)</th>\n",
       "      <th>Density of Seawater (kg/m^3)</th>\n",
       "      <th>Drag Coefficient</th>\n",
       "      <th>Wetted Surface Area (m^2)</th>\n",
       "      <th>Power Required (Watts)</th>\n",
       "      <th>Stat</th>\n",
       "      <th>Level</th>\n",
       "      <th>Weapon Range Status</th>\n",
       "      <th>Weapons Status</th>\n",
       "      <th>Status</th>\n",
       "      <th>Label</th>\n",
       "    </tr>\n",
       "  </thead>\n",
       "  <tbody>\n",
       "    <tr>\n",
       "      <th>0</th>\n",
       "      <td>15.0</td>\n",
       "      <td>1024.681725</td>\n",
       "      <td>0.035009</td>\n",
       "      <td>1004.940348</td>\n",
       "      <td>6.083512e+07</td>\n",
       "      <td>0</td>\n",
       "      <td>266</td>\n",
       "      <td>1</td>\n",
       "      <td>0</td>\n",
       "      <td>0</td>\n",
       "      <td>0</td>\n",
       "    </tr>\n",
       "    <tr>\n",
       "      <th>1</th>\n",
       "      <td>15.0</td>\n",
       "      <td>1024.681725</td>\n",
       "      <td>0.035009</td>\n",
       "      <td>1004.940348</td>\n",
       "      <td>6.083512e+07</td>\n",
       "      <td>0</td>\n",
       "      <td>268</td>\n",
       "      <td>1</td>\n",
       "      <td>0</td>\n",
       "      <td>0</td>\n",
       "      <td>0</td>\n",
       "    </tr>\n",
       "    <tr>\n",
       "      <th>2</th>\n",
       "      <td>15.0</td>\n",
       "      <td>1024.681725</td>\n",
       "      <td>0.035009</td>\n",
       "      <td>1004.940348</td>\n",
       "      <td>6.083512e+07</td>\n",
       "      <td>0</td>\n",
       "      <td>461</td>\n",
       "      <td>1</td>\n",
       "      <td>0</td>\n",
       "      <td>0</td>\n",
       "      <td>0</td>\n",
       "    </tr>\n",
       "    <tr>\n",
       "      <th>3</th>\n",
       "      <td>15.0</td>\n",
       "      <td>1024.681725</td>\n",
       "      <td>0.035009</td>\n",
       "      <td>1004.940348</td>\n",
       "      <td>6.083512e+07</td>\n",
       "      <td>0</td>\n",
       "      <td>3</td>\n",
       "      <td>1</td>\n",
       "      <td>0</td>\n",
       "      <td>0</td>\n",
       "      <td>0</td>\n",
       "    </tr>\n",
       "    <tr>\n",
       "      <th>4</th>\n",
       "      <td>15.0</td>\n",
       "      <td>1024.681725</td>\n",
       "      <td>0.035009</td>\n",
       "      <td>1004.940348</td>\n",
       "      <td>6.083512e+07</td>\n",
       "      <td>0</td>\n",
       "      <td>58</td>\n",
       "      <td>1</td>\n",
       "      <td>0</td>\n",
       "      <td>0</td>\n",
       "      <td>0</td>\n",
       "    </tr>\n",
       "  </tbody>\n",
       "</table>\n",
       "</div>"
      ],
      "text/plain": [
       "   Speed (m/s)  Density of Seawater (kg/m^3)  Drag Coefficient  \\\n",
       "0         15.0                   1024.681725          0.035009   \n",
       "1         15.0                   1024.681725          0.035009   \n",
       "2         15.0                   1024.681725          0.035009   \n",
       "3         15.0                   1024.681725          0.035009   \n",
       "4         15.0                   1024.681725          0.035009   \n",
       "\n",
       "   Wetted Surface Area (m^2)  Power Required (Watts)  Stat Level  \\\n",
       "0                1004.940348            6.083512e+07     0   266   \n",
       "1                1004.940348            6.083512e+07     0   268   \n",
       "2                1004.940348            6.083512e+07     0   461   \n",
       "3                1004.940348            6.083512e+07     0     3   \n",
       "4                1004.940348            6.083512e+07     0    58   \n",
       "\n",
       "  Weapon Range Status Weapons Status  Status  Label  \n",
       "0                  1              0        0      0  \n",
       "1                  1              0        0      0  \n",
       "2                  1              0        0      0  \n",
       "3                  1              0        0      0  \n",
       "4                  1              0        0      0  "
      ]
     },
     "execution_count": 31,
     "metadata": {},
     "output_type": "execute_result"
    }
   ],
   "source": [
    "df_new.head()"
   ]
  },
  {
   "cell_type": "code",
   "execution_count": 32,
   "id": "692f48ed-64ad-4779-abea-d866880583d2",
   "metadata": {},
   "outputs": [
    {
     "data": {
      "text/plain": [
       "19806000"
      ]
     },
     "execution_count": 32,
     "metadata": {},
     "output_type": "execute_result"
    }
   ],
   "source": [
    "# df_new.tail()\n",
    "(df_new['Label'] == 1).sum()"
   ]
  },
  {
   "cell_type": "code",
   "execution_count": 33,
   "id": "c4e853d9-4145-4799-abae-eda12321ad22",
   "metadata": {},
   "outputs": [],
   "source": [
    "y = df_new['Label']"
   ]
  },
  {
   "cell_type": "code",
   "execution_count": 34,
   "id": "2e1fb299-2555-4bab-a7e9-836bb877874c",
   "metadata": {},
   "outputs": [],
   "source": [
    "df_new = df_new.drop(columns=['Label'])"
   ]
  },
  {
   "cell_type": "code",
   "execution_count": 35,
   "id": "684bef36-9b18-4c2d-b706-915f41b6b382",
   "metadata": {},
   "outputs": [
    {
     "data": {
      "text/plain": [
       "Index(['Speed (m/s)', 'Density of Seawater (kg/m^3)', 'Drag Coefficient',\n",
       "       'Wetted Surface Area (m^2)', 'Power Required (Watts)', 'Stat', 'Level',\n",
       "       'Weapon Range Status', 'Weapons Status', 'Status'],\n",
       "      dtype='object')"
      ]
     },
     "execution_count": 35,
     "metadata": {},
     "output_type": "execute_result"
    }
   ],
   "source": [
    "df_new.columns"
   ]
  },
  {
   "cell_type": "code",
   "execution_count": 36,
   "id": "bef6aef2",
   "metadata": {},
   "outputs": [
    {
     "name": "stdout",
     "output_type": "stream",
     "text": [
      "Mean Squared Error: 0.0\n"
     ]
    }
   ],
   "source": [
    "from sklearn.tree import DecisionTreeRegressor\n",
    "from sklearn.model_selection import train_test_split\n",
    "from sklearn.metrics import mean_squared_error\n",
    "# from sklearn.metrics import roc_auc_score\n",
    "# Assuming you have a target variable 'y' for regression\n",
    "\n",
    "# Split the data into a training set and a testing set\n",
    "X_train, X_test, y_train, y_test = train_test_split(df_new, y, test_size=0.2, random_state=42)\n",
    "\n",
    "# Create a decision tree regressor\n",
    "regressor = DecisionTreeRegressor()\n",
    "\n",
    "# Fit the model on the training data\n",
    "regressor.fit(X_train, y_train)\n",
    "\n",
    "# Make predictions on the test set\n",
    "y_pred = regressor.predict(X_test)\n",
    "\n",
    "# Calculate the mean squared error (MSE) to evaluate the model's performance\n",
    "mse = mean_squared_error(y_test, y_pred)\n",
    "print(\"Mean Squared Error:\", mse)"
   ]
  },
  {
   "cell_type": "code",
   "execution_count": 37,
   "id": "755bce0e",
   "metadata": {},
   "outputs": [],
   "source": [
    "comparison_df = pd.DataFrame({'Actual (y_test)': y_test, 'Predicted (y_pred)': y_pred})"
   ]
  },
  {
   "cell_type": "code",
   "execution_count": 38,
   "id": "e1c2225a",
   "metadata": {
    "scrolled": true
   },
   "outputs": [
    {
     "data": {
      "text/html": [
       "<div>\n",
       "<style scoped>\n",
       "    .dataframe tbody tr th:only-of-type {\n",
       "        vertical-align: middle;\n",
       "    }\n",
       "\n",
       "    .dataframe tbody tr th {\n",
       "        vertical-align: top;\n",
       "    }\n",
       "\n",
       "    .dataframe thead th {\n",
       "        text-align: right;\n",
       "    }\n",
       "</style>\n",
       "<table border=\"1\" class=\"dataframe\">\n",
       "  <thead>\n",
       "    <tr style=\"text-align: right;\">\n",
       "      <th></th>\n",
       "      <th>Actual (y_test)</th>\n",
       "      <th>Predicted (y_pred)</th>\n",
       "    </tr>\n",
       "  </thead>\n",
       "  <tbody>\n",
       "    <tr>\n",
       "      <th>25006547</th>\n",
       "      <td>1</td>\n",
       "      <td>1.0</td>\n",
       "    </tr>\n",
       "    <tr>\n",
       "      <th>4572869</th>\n",
       "      <td>0</td>\n",
       "      <td>0.0</td>\n",
       "    </tr>\n",
       "    <tr>\n",
       "      <th>10282946</th>\n",
       "      <td>1</td>\n",
       "      <td>1.0</td>\n",
       "    </tr>\n",
       "    <tr>\n",
       "      <th>7711772</th>\n",
       "      <td>0</td>\n",
       "      <td>0.0</td>\n",
       "    </tr>\n",
       "    <tr>\n",
       "      <th>18709253</th>\n",
       "      <td>1</td>\n",
       "      <td>1.0</td>\n",
       "    </tr>\n",
       "    <tr>\n",
       "      <th>13026309</th>\n",
       "      <td>1</td>\n",
       "      <td>1.0</td>\n",
       "    </tr>\n",
       "    <tr>\n",
       "      <th>17551693</th>\n",
       "      <td>1</td>\n",
       "      <td>1.0</td>\n",
       "    </tr>\n",
       "    <tr>\n",
       "      <th>5252228</th>\n",
       "      <td>0</td>\n",
       "      <td>0.0</td>\n",
       "    </tr>\n",
       "    <tr>\n",
       "      <th>20712906</th>\n",
       "      <td>1</td>\n",
       "      <td>1.0</td>\n",
       "    </tr>\n",
       "    <tr>\n",
       "      <th>2244945</th>\n",
       "      <td>1</td>\n",
       "      <td>1.0</td>\n",
       "    </tr>\n",
       "    <tr>\n",
       "      <th>10784929</th>\n",
       "      <td>1</td>\n",
       "      <td>1.0</td>\n",
       "    </tr>\n",
       "    <tr>\n",
       "      <th>13127681</th>\n",
       "      <td>1</td>\n",
       "      <td>1.0</td>\n",
       "    </tr>\n",
       "    <tr>\n",
       "      <th>19195857</th>\n",
       "      <td>1</td>\n",
       "      <td>1.0</td>\n",
       "    </tr>\n",
       "    <tr>\n",
       "      <th>21322532</th>\n",
       "      <td>1</td>\n",
       "      <td>1.0</td>\n",
       "    </tr>\n",
       "    <tr>\n",
       "      <th>18921713</th>\n",
       "      <td>1</td>\n",
       "      <td>1.0</td>\n",
       "    </tr>\n",
       "    <tr>\n",
       "      <th>11508173</th>\n",
       "      <td>1</td>\n",
       "      <td>1.0</td>\n",
       "    </tr>\n",
       "    <tr>\n",
       "      <th>20013197</th>\n",
       "      <td>1</td>\n",
       "      <td>1.0</td>\n",
       "    </tr>\n",
       "    <tr>\n",
       "      <th>11181743</th>\n",
       "      <td>0</td>\n",
       "      <td>0.0</td>\n",
       "    </tr>\n",
       "    <tr>\n",
       "      <th>8953188</th>\n",
       "      <td>1</td>\n",
       "      <td>1.0</td>\n",
       "    </tr>\n",
       "    <tr>\n",
       "      <th>11022069</th>\n",
       "      <td>1</td>\n",
       "      <td>1.0</td>\n",
       "    </tr>\n",
       "  </tbody>\n",
       "</table>\n",
       "</div>"
      ],
      "text/plain": [
       "          Actual (y_test)  Predicted (y_pred)\n",
       "25006547                1                 1.0\n",
       "4572869                 0                 0.0\n",
       "10282946                1                 1.0\n",
       "7711772                 0                 0.0\n",
       "18709253                1                 1.0\n",
       "13026309                1                 1.0\n",
       "17551693                1                 1.0\n",
       "5252228                 0                 0.0\n",
       "20712906                1                 1.0\n",
       "2244945                 1                 1.0\n",
       "10784929                1                 1.0\n",
       "13127681                1                 1.0\n",
       "19195857                1                 1.0\n",
       "21322532                1                 1.0\n",
       "18921713                1                 1.0\n",
       "11508173                1                 1.0\n",
       "20013197                1                 1.0\n",
       "11181743                0                 0.0\n",
       "8953188                 1                 1.0\n",
       "11022069                1                 1.0"
      ]
     },
     "execution_count": 38,
     "metadata": {},
     "output_type": "execute_result"
    }
   ],
   "source": [
    "comparison_df.head(20)"
   ]
  },
  {
   "cell_type": "code",
   "execution_count": 39,
   "id": "434d96fd",
   "metadata": {},
   "outputs": [
    {
     "data": {
      "text/plain": [
       "Index(['Actual (y_test)', 'Predicted (y_pred)'], dtype='object')"
      ]
     },
     "execution_count": 39,
     "metadata": {},
     "output_type": "execute_result"
    }
   ],
   "source": [
    "comparison_df.columns"
   ]
  },
  {
   "cell_type": "code",
   "execution_count": 40,
   "id": "31aebaac",
   "metadata": {},
   "outputs": [
    {
     "data": {
      "text/plain": [
       "1.0"
      ]
     },
     "execution_count": 40,
     "metadata": {},
     "output_type": "execute_result"
    }
   ],
   "source": [
    "roc_auc_score(comparison_df['Actual (y_test)'], comparison_df['Predicted (y_pred)'])"
   ]
  },
  {
   "cell_type": "code",
   "execution_count": 41,
   "id": "c0116380-5547-4b76-984c-544d4d007a2c",
   "metadata": {},
   "outputs": [],
   "source": [
    "from sklearn.tree import export_text\n",
    "from sklearn import tree"
   ]
  },
  {
   "cell_type": "code",
   "execution_count": 42,
   "id": "ca3a29ca-9156-4c84-bbe1-1a9bbe2b8164",
   "metadata": {},
   "outputs": [
    {
     "name": "stdout",
     "output_type": "stream",
     "text": [
      "|--- Status <= 1.50\n",
      "|   |--- Stat <= 0.50\n",
      "|   |   |--- value: [0.00]\n",
      "|   |--- Stat >  0.50\n",
      "|   |   |--- value: [1.00]\n",
      "|--- Status >  1.50\n",
      "|   |--- value: [1.00]\n",
      "\n"
     ]
    }
   ],
   "source": [
    "tree_rules = export_text(regressor, feature_names=list(X_train.columns))\n",
    "print(tree_rules)"
   ]
  },
  {
   "cell_type": "code",
   "execution_count": 43,
   "id": "53e2450d-1b8f-4410-a5d8-df82d8515f62",
   "metadata": {},
   "outputs": [
    {
     "data": {
      "image/png": "[encoded data removed]",
      "text/plain": [
       "<Figure size 1200x800 with 1 Axes>"
      ]
     },
     "metadata": {},
     "output_type": "display_data"
    }
   ],
   "source": [
    "plt.figure(figsize=(12, 8))\n",
    "tree.plot_tree(regressor, feature_names=list(X_train.columns), filled=True, rounded=True)\n",
    "plt.show()"
   ]
  },
  {
   "cell_type": "code",
   "execution_count": null,
   "id": "bacdb8d3-6a1a-4f6f-b3d0-719c69fcfe52",
   "metadata": {},
   "outputs": [],
   "source": []
  }
 ],
 "metadata": {
  "kernelspec": {
   "display_name": "Python 3 (ipykernel)",
   "language": "python",
   "name": "python3"
  },
  "language_info": {
   "codemirror_mode": {
    "name": "ipython",
    "version": 3
   },
   "file_extension": ".py",
   "mimetype": "text/x-python",
   "name": "python",
   "nbconvert_exporter": "python",
   "pygments_lexer": "ipython3",
   "version": "3.9.8"
  }
 },
 "nbformat": 4,
 "nbformat_minor": 5
}
